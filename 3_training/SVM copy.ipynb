{
 "cells": [
  {
   "cell_type": "markdown",
   "metadata": {},
   "source": [
    "# **1 - Import all the Stuff**"
   ]
  },
  {
   "cell_type": "code",
   "execution_count": 1,
   "metadata": {},
   "outputs": [],
   "source": [
    "import pandas as pd\n",
    "import numpy as np\n",
    "import matplotlib.pyplot as plt\n",
    "import matplotlib.colors as colors\n",
    "from sklearn.utils import resample\n",
    "from sklearn.model_selection import train_test_split\n",
    "from sklearn.preprocessing import scale\n",
    "from sklearn.svm import SVC\n",
    "from sklearn.model_selection import GridSearchCV\n",
    "from sklearn.metrics import confusion_matrix\n",
    "from sklearn.metrics import plot_confusion_matrix\n",
    "from sklearn.decomposition import PCA\n",
    "from numpy import sum, amax\n",
    "from sklearn.metrics.cluster import contingency_matrix\n",
    "from sklearn.model_selection import cross_val_score"
   ]
  },
  {
   "cell_type": "markdown",
   "metadata": {},
   "source": [
    "# **2 - Reading and preparing the dataset**"
   ]
  },
  {
   "cell_type": "code",
   "execution_count": 2,
   "metadata": {},
   "outputs": [],
   "source": [
    "df = pd.read_csv(\"sequence/20fps.csv\")\n",
    "df.drop([\"id\", \"inizio\", \"fine\"], axis=1, inplace=True)\n",
    "dfs = [df[df[\"classe\"] == cls] for cls in range(0,5)]"
   ]
  },
  {
   "cell_type": "code",
   "execution_count": 3,
   "metadata": {},
   "outputs": [
    {
     "data": {
      "text/plain": [
       "[3398, 5751, 1709, 12550, 1126]"
      ]
     },
     "execution_count": 3,
     "metadata": {},
     "output_type": "execute_result"
    }
   ],
   "source": [
    "len_dfs = [len(el) for el in dfs]\n",
    "len_dfs"
   ]
  },
  {
   "cell_type": "code",
   "execution_count": 4,
   "metadata": {},
   "outputs": [],
   "source": [
    "dfs_dwn_smpld = [resample(df_cls, replace = False, n_samples = min(len_dfs)) for df_cls in dfs]"
   ]
  },
  {
   "cell_type": "code",
   "execution_count": 5,
   "metadata": {},
   "outputs": [
    {
     "data": {
      "text/plain": [
       "[1126, 1126, 1126, 1126, 1126]"
      ]
     },
     "execution_count": 5,
     "metadata": {},
     "output_type": "execute_result"
    }
   ],
   "source": [
    "len_dfs_dwn_smpld = [len(el) for el in dfs_dwn_smpld]\n",
    "len_dfs_dwn_smpld"
   ]
  },
  {
   "cell_type": "code",
   "execution_count": 6,
   "metadata": {},
   "outputs": [
    {
     "data": {
      "text/plain": [
       "5630"
      ]
     },
     "execution_count": 6,
     "metadata": {},
     "output_type": "execute_result"
    }
   ],
   "source": [
    "df_downsample = pd.concat([x for x in dfs_dwn_smpld])\n",
    "len(df_downsample)"
   ]
  },
  {
   "cell_type": "code",
   "execution_count": 7,
   "metadata": {},
   "outputs": [
    {
     "data": {
      "text/html": [
       "<div>\n",
       "<style scoped>\n",
       "    .dataframe tbody tr th:only-of-type {\n",
       "        vertical-align: middle;\n",
       "    }\n",
       "\n",
       "    .dataframe tbody tr th {\n",
       "        vertical-align: top;\n",
       "    }\n",
       "\n",
       "    .dataframe thead th {\n",
       "        text-align: right;\n",
       "    }\n",
       "</style>\n",
       "<table border=\"1\" class=\"dataframe\">\n",
       "  <thead>\n",
       "    <tr style=\"text-align: right;\">\n",
       "      <th></th>\n",
       "      <th>classe</th>\n",
       "      <th>min_AU01_r</th>\n",
       "      <th>max_AU01_r</th>\n",
       "      <th>mean_AU01_r</th>\n",
       "      <th>stdev_AU01_r</th>\n",
       "      <th>skew_AU01_r</th>\n",
       "      <th>kurt_AU01_r</th>\n",
       "      <th>min_AU02_r</th>\n",
       "      <th>max_AU02_r</th>\n",
       "      <th>mean_AU02_r</th>\n",
       "      <th>...</th>\n",
       "      <th>mean_AU26_r</th>\n",
       "      <th>stdev_AU26_r</th>\n",
       "      <th>skew_AU26_r</th>\n",
       "      <th>kurt_AU26_r</th>\n",
       "      <th>min_AU45_r</th>\n",
       "      <th>max_AU45_r</th>\n",
       "      <th>mean_AU45_r</th>\n",
       "      <th>stdev_AU45_r</th>\n",
       "      <th>skew_AU45_r</th>\n",
       "      <th>kurt_AU45_r</th>\n",
       "    </tr>\n",
       "  </thead>\n",
       "  <tbody>\n",
       "    <tr>\n",
       "      <th>0</th>\n",
       "      <td>0</td>\n",
       "      <td>0.0</td>\n",
       "      <td>0.00</td>\n",
       "      <td>0.000</td>\n",
       "      <td>0.0000</td>\n",
       "      <td>0.0000</td>\n",
       "      <td>-3.0000</td>\n",
       "      <td>0.0</td>\n",
       "      <td>0.6</td>\n",
       "      <td>0.2750</td>\n",
       "      <td>...</td>\n",
       "      <td>0.3105</td>\n",
       "      <td>0.2231</td>\n",
       "      <td>0.9833</td>\n",
       "      <td>0.1082</td>\n",
       "      <td>0.00</td>\n",
       "      <td>0.00</td>\n",
       "      <td>0.0000</td>\n",
       "      <td>0.0000</td>\n",
       "      <td>0.0000</td>\n",
       "      <td>-3.0000</td>\n",
       "    </tr>\n",
       "    <tr>\n",
       "      <th>1</th>\n",
       "      <td>0</td>\n",
       "      <td>0.0</td>\n",
       "      <td>0.00</td>\n",
       "      <td>0.000</td>\n",
       "      <td>0.0000</td>\n",
       "      <td>0.0000</td>\n",
       "      <td>-3.0000</td>\n",
       "      <td>0.0</td>\n",
       "      <td>0.6</td>\n",
       "      <td>0.2750</td>\n",
       "      <td>...</td>\n",
       "      <td>0.2735</td>\n",
       "      <td>0.1976</td>\n",
       "      <td>1.0686</td>\n",
       "      <td>0.7102</td>\n",
       "      <td>0.00</td>\n",
       "      <td>0.00</td>\n",
       "      <td>0.0000</td>\n",
       "      <td>0.0000</td>\n",
       "      <td>0.0000</td>\n",
       "      <td>-3.0000</td>\n",
       "    </tr>\n",
       "    <tr>\n",
       "      <th>2</th>\n",
       "      <td>0</td>\n",
       "      <td>0.0</td>\n",
       "      <td>0.12</td>\n",
       "      <td>0.006</td>\n",
       "      <td>0.0268</td>\n",
       "      <td>4.1295</td>\n",
       "      <td>15.0526</td>\n",
       "      <td>0.0</td>\n",
       "      <td>0.6</td>\n",
       "      <td>0.2810</td>\n",
       "      <td>...</td>\n",
       "      <td>0.2350</td>\n",
       "      <td>0.1687</td>\n",
       "      <td>0.8260</td>\n",
       "      <td>0.6541</td>\n",
       "      <td>0.00</td>\n",
       "      <td>0.00</td>\n",
       "      <td>0.0000</td>\n",
       "      <td>0.0000</td>\n",
       "      <td>0.0000</td>\n",
       "      <td>-3.0000</td>\n",
       "    </tr>\n",
       "    <tr>\n",
       "      <th>3</th>\n",
       "      <td>0</td>\n",
       "      <td>0.0</td>\n",
       "      <td>0.26</td>\n",
       "      <td>0.019</td>\n",
       "      <td>0.0627</td>\n",
       "      <td>3.2595</td>\n",
       "      <td>9.4456</td>\n",
       "      <td>0.0</td>\n",
       "      <td>0.6</td>\n",
       "      <td>0.2930</td>\n",
       "      <td>...</td>\n",
       "      <td>0.2005</td>\n",
       "      <td>0.1386</td>\n",
       "      <td>0.0976</td>\n",
       "      <td>-1.2583</td>\n",
       "      <td>0.00</td>\n",
       "      <td>0.00</td>\n",
       "      <td>0.0000</td>\n",
       "      <td>0.0000</td>\n",
       "      <td>0.0000</td>\n",
       "      <td>-3.0000</td>\n",
       "    </tr>\n",
       "    <tr>\n",
       "      <th>4</th>\n",
       "      <td>0</td>\n",
       "      <td>0.0</td>\n",
       "      <td>0.38</td>\n",
       "      <td>0.038</td>\n",
       "      <td>0.1020</td>\n",
       "      <td>2.5758</td>\n",
       "      <td>5.2996</td>\n",
       "      <td>0.0</td>\n",
       "      <td>0.6</td>\n",
       "      <td>0.3085</td>\n",
       "      <td>...</td>\n",
       "      <td>0.1775</td>\n",
       "      <td>0.1312</td>\n",
       "      <td>0.0501</td>\n",
       "      <td>-1.5379</td>\n",
       "      <td>0.00</td>\n",
       "      <td>0.00</td>\n",
       "      <td>0.0000</td>\n",
       "      <td>0.0000</td>\n",
       "      <td>0.0000</td>\n",
       "      <td>-3.0000</td>\n",
       "    </tr>\n",
       "    <tr>\n",
       "      <th>...</th>\n",
       "      <td>...</td>\n",
       "      <td>...</td>\n",
       "      <td>...</td>\n",
       "      <td>...</td>\n",
       "      <td>...</td>\n",
       "      <td>...</td>\n",
       "      <td>...</td>\n",
       "      <td>...</td>\n",
       "      <td>...</td>\n",
       "      <td>...</td>\n",
       "      <td>...</td>\n",
       "      <td>...</td>\n",
       "      <td>...</td>\n",
       "      <td>...</td>\n",
       "      <td>...</td>\n",
       "      <td>...</td>\n",
       "      <td>...</td>\n",
       "      <td>...</td>\n",
       "      <td>...</td>\n",
       "      <td>...</td>\n",
       "      <td>...</td>\n",
       "    </tr>\n",
       "    <tr>\n",
       "      <th>24529</th>\n",
       "      <td>1</td>\n",
       "      <td>0.0</td>\n",
       "      <td>0.00</td>\n",
       "      <td>0.000</td>\n",
       "      <td>0.0000</td>\n",
       "      <td>0.0000</td>\n",
       "      <td>-3.0000</td>\n",
       "      <td>0.0</td>\n",
       "      <td>0.0</td>\n",
       "      <td>0.0000</td>\n",
       "      <td>...</td>\n",
       "      <td>0.8280</td>\n",
       "      <td>0.2028</td>\n",
       "      <td>-0.6128</td>\n",
       "      <td>0.3380</td>\n",
       "      <td>1.05</td>\n",
       "      <td>1.55</td>\n",
       "      <td>1.2980</td>\n",
       "      <td>0.1904</td>\n",
       "      <td>0.0010</td>\n",
       "      <td>-1.7258</td>\n",
       "    </tr>\n",
       "    <tr>\n",
       "      <th>24530</th>\n",
       "      <td>1</td>\n",
       "      <td>0.0</td>\n",
       "      <td>0.00</td>\n",
       "      <td>0.000</td>\n",
       "      <td>0.0000</td>\n",
       "      <td>0.0000</td>\n",
       "      <td>-3.0000</td>\n",
       "      <td>0.0</td>\n",
       "      <td>0.0</td>\n",
       "      <td>0.0000</td>\n",
       "      <td>...</td>\n",
       "      <td>0.8480</td>\n",
       "      <td>0.1666</td>\n",
       "      <td>0.0389</td>\n",
       "      <td>-0.5550</td>\n",
       "      <td>1.05</td>\n",
       "      <td>1.55</td>\n",
       "      <td>1.3165</td>\n",
       "      <td>0.1881</td>\n",
       "      <td>-0.1985</td>\n",
       "      <td>-1.6729</td>\n",
       "    </tr>\n",
       "    <tr>\n",
       "      <th>24531</th>\n",
       "      <td>1</td>\n",
       "      <td>0.0</td>\n",
       "      <td>0.00</td>\n",
       "      <td>0.000</td>\n",
       "      <td>0.0000</td>\n",
       "      <td>0.0000</td>\n",
       "      <td>-3.0000</td>\n",
       "      <td>0.0</td>\n",
       "      <td>0.0</td>\n",
       "      <td>0.0000</td>\n",
       "      <td>...</td>\n",
       "      <td>0.8625</td>\n",
       "      <td>0.1450</td>\n",
       "      <td>0.5569</td>\n",
       "      <td>-1.0885</td>\n",
       "      <td>1.05</td>\n",
       "      <td>1.55</td>\n",
       "      <td>1.3330</td>\n",
       "      <td>0.1863</td>\n",
       "      <td>-0.4016</td>\n",
       "      <td>-1.5427</td>\n",
       "    </tr>\n",
       "    <tr>\n",
       "      <th>24532</th>\n",
       "      <td>1</td>\n",
       "      <td>0.0</td>\n",
       "      <td>0.00</td>\n",
       "      <td>0.000</td>\n",
       "      <td>0.0000</td>\n",
       "      <td>0.0000</td>\n",
       "      <td>-3.0000</td>\n",
       "      <td>0.0</td>\n",
       "      <td>0.0</td>\n",
       "      <td>0.0000</td>\n",
       "      <td>...</td>\n",
       "      <td>0.8660</td>\n",
       "      <td>0.1422</td>\n",
       "      <td>0.5619</td>\n",
       "      <td>-1.0460</td>\n",
       "      <td>1.05</td>\n",
       "      <td>1.55</td>\n",
       "      <td>1.3445</td>\n",
       "      <td>0.1847</td>\n",
       "      <td>-0.5757</td>\n",
       "      <td>-1.3812</td>\n",
       "    </tr>\n",
       "    <tr>\n",
       "      <th>24533</th>\n",
       "      <td>1</td>\n",
       "      <td>0.0</td>\n",
       "      <td>0.00</td>\n",
       "      <td>0.000</td>\n",
       "      <td>0.0000</td>\n",
       "      <td>0.0000</td>\n",
       "      <td>-3.0000</td>\n",
       "      <td>0.0</td>\n",
       "      <td>0.0</td>\n",
       "      <td>0.0000</td>\n",
       "      <td>...</td>\n",
       "      <td>0.8610</td>\n",
       "      <td>0.1405</td>\n",
       "      <td>0.6763</td>\n",
       "      <td>-0.8682</td>\n",
       "      <td>1.05</td>\n",
       "      <td>1.55</td>\n",
       "      <td>1.3510</td>\n",
       "      <td>0.1798</td>\n",
       "      <td>-0.6704</td>\n",
       "      <td>-1.1779</td>\n",
       "    </tr>\n",
       "  </tbody>\n",
       "</table>\n",
       "<p>24534 rows × 103 columns</p>\n",
       "</div>"
      ],
      "text/plain": [
       "       classe  min_AU01_r  max_AU01_r  mean_AU01_r  stdev_AU01_r  skew_AU01_r  \\\n",
       "0           0         0.0        0.00        0.000        0.0000       0.0000   \n",
       "1           0         0.0        0.00        0.000        0.0000       0.0000   \n",
       "2           0         0.0        0.12        0.006        0.0268       4.1295   \n",
       "3           0         0.0        0.26        0.019        0.0627       3.2595   \n",
       "4           0         0.0        0.38        0.038        0.1020       2.5758   \n",
       "...       ...         ...         ...          ...           ...          ...   \n",
       "24529       1         0.0        0.00        0.000        0.0000       0.0000   \n",
       "24530       1         0.0        0.00        0.000        0.0000       0.0000   \n",
       "24531       1         0.0        0.00        0.000        0.0000       0.0000   \n",
       "24532       1         0.0        0.00        0.000        0.0000       0.0000   \n",
       "24533       1         0.0        0.00        0.000        0.0000       0.0000   \n",
       "\n",
       "       kurt_AU01_r  min_AU02_r  max_AU02_r  mean_AU02_r  ...  mean_AU26_r  \\\n",
       "0          -3.0000         0.0         0.6       0.2750  ...       0.3105   \n",
       "1          -3.0000         0.0         0.6       0.2750  ...       0.2735   \n",
       "2          15.0526         0.0         0.6       0.2810  ...       0.2350   \n",
       "3           9.4456         0.0         0.6       0.2930  ...       0.2005   \n",
       "4           5.2996         0.0         0.6       0.3085  ...       0.1775   \n",
       "...            ...         ...         ...          ...  ...          ...   \n",
       "24529      -3.0000         0.0         0.0       0.0000  ...       0.8280   \n",
       "24530      -3.0000         0.0         0.0       0.0000  ...       0.8480   \n",
       "24531      -3.0000         0.0         0.0       0.0000  ...       0.8625   \n",
       "24532      -3.0000         0.0         0.0       0.0000  ...       0.8660   \n",
       "24533      -3.0000         0.0         0.0       0.0000  ...       0.8610   \n",
       "\n",
       "       stdev_AU26_r  skew_AU26_r  kurt_AU26_r  min_AU45_r  max_AU45_r  \\\n",
       "0            0.2231       0.9833       0.1082        0.00        0.00   \n",
       "1            0.1976       1.0686       0.7102        0.00        0.00   \n",
       "2            0.1687       0.8260       0.6541        0.00        0.00   \n",
       "3            0.1386       0.0976      -1.2583        0.00        0.00   \n",
       "4            0.1312       0.0501      -1.5379        0.00        0.00   \n",
       "...             ...          ...          ...         ...         ...   \n",
       "24529        0.2028      -0.6128       0.3380        1.05        1.55   \n",
       "24530        0.1666       0.0389      -0.5550        1.05        1.55   \n",
       "24531        0.1450       0.5569      -1.0885        1.05        1.55   \n",
       "24532        0.1422       0.5619      -1.0460        1.05        1.55   \n",
       "24533        0.1405       0.6763      -0.8682        1.05        1.55   \n",
       "\n",
       "       mean_AU45_r  stdev_AU45_r  skew_AU45_r  kurt_AU45_r  \n",
       "0           0.0000        0.0000       0.0000      -3.0000  \n",
       "1           0.0000        0.0000       0.0000      -3.0000  \n",
       "2           0.0000        0.0000       0.0000      -3.0000  \n",
       "3           0.0000        0.0000       0.0000      -3.0000  \n",
       "4           0.0000        0.0000       0.0000      -3.0000  \n",
       "...            ...           ...          ...          ...  \n",
       "24529       1.2980        0.1904       0.0010      -1.7258  \n",
       "24530       1.3165        0.1881      -0.1985      -1.6729  \n",
       "24531       1.3330        0.1863      -0.4016      -1.5427  \n",
       "24532       1.3445        0.1847      -0.5757      -1.3812  \n",
       "24533       1.3510        0.1798      -0.6704      -1.1779  \n",
       "\n",
       "[24534 rows x 103 columns]"
      ]
     },
     "execution_count": 7,
     "metadata": {},
     "output_type": "execute_result"
    }
   ],
   "source": [
    "df"
   ]
  },
  {
   "cell_type": "markdown",
   "metadata": {},
   "source": [
    "# **3 - Splitting the Dataset**"
   ]
  },
  {
   "cell_type": "code",
   "execution_count": 8,
   "metadata": {},
   "outputs": [],
   "source": [
    "X = df_downsample.drop(\"classe\", axis=1).copy()\n",
    "y = df_downsample[\"classe\"].copy()"
   ]
  },
  {
   "cell_type": "code",
   "execution_count": 9,
   "metadata": {},
   "outputs": [],
   "source": [
    "X_train, X_test, y_train, y_test = train_test_split(X, y, test_size = 0.25)\n",
    "X_train_scaled = scale(X_train)\n",
    "X_test_scaled = scale(X_test)"
   ]
  },
  {
   "cell_type": "markdown",
   "metadata": {},
   "source": [
    "# **4 - Training the model**"
   ]
  },
  {
   "cell_type": "code",
   "execution_count": 10,
   "metadata": {},
   "outputs": [
    {
     "data": {
      "text/plain": [
       "SVC()"
      ]
     },
     "execution_count": 10,
     "metadata": {},
     "output_type": "execute_result"
    }
   ],
   "source": [
    "clf_svm = SVC()\n",
    "clf_svm.fit(X_train_scaled, y_train)"
   ]
  },
  {
   "cell_type": "code",
   "execution_count": 11,
   "metadata": {},
   "outputs": [
    {
     "data": {
      "text/plain": [
       "<sklearn.metrics._plot.confusion_matrix.ConfusionMatrixDisplay at 0x7f10341fb0d0>"
      ]
     },
     "execution_count": 11,
     "metadata": {},
     "output_type": "execute_result"
    },
    {
     "data": {
      "image/png": "[encoded data removed]",
      "text/plain": [
       "<Figure size 432x288 with 2 Axes>"
      ]
     },
     "metadata": {
      "needs_background": "light"
     },
     "output_type": "display_data"
    }
   ],
   "source": [
    "plot_confusion_matrix(clf_svm, X_test_scaled, y_test, normalize = \"true\")"
   ]
  },
  {
   "cell_type": "markdown",
   "metadata": {},
   "source": [
    "# **5 - Finding optimal params for the model**"
   ]
  },
  {
   "cell_type": "code",
   "execution_count": 12,
   "metadata": {},
   "outputs": [
    {
     "data": {
      "text/plain": [
       "0.8850799289520428"
      ]
     },
     "execution_count": 12,
     "metadata": {},
     "output_type": "execute_result"
    }
   ],
   "source": [
    "scores = cross_val_score(clf_svm, X, y, cv = 5, scoring = \"accuracy\")\n",
    "scores.mean()"
   ]
  },
  {
   "cell_type": "code",
   "execution_count": 13,
   "metadata": {},
   "outputs": [
    {
     "name": "stdout",
     "output_type": "stream",
     "text": [
      "              precision    recall  f1-score   support\n",
      "\n",
      "           0       0.93      0.96      0.94       293\n",
      "           1       0.97      0.91      0.94       287\n",
      "           2       0.98      0.99      0.99       291\n",
      "           3       0.90      0.91      0.90       270\n",
      "           4       0.97      0.99      0.98       267\n",
      "\n",
      "    accuracy                           0.95      1408\n",
      "   macro avg       0.95      0.95      0.95      1408\n",
      "weighted avg       0.95      0.95      0.95      1408\n",
      "\n"
     ]
    }
   ],
   "source": [
    "from sklearn.metrics import classification_report\n",
    "\n",
    "p_test = clf_svm.predict(X_test_scaled)\n",
    "\n",
    "report = classification_report(y_test, p_test)\n",
    "\n",
    "print(report)"
   ]
  }
 ],
 "metadata": {
  "interpreter": {
   "hash": "41f9184bb0d823b2d38af57b67710821e2949230442fb1fda3372b318542babf"
  },
  "kernelspec": {
   "display_name": "Python 3.8.10 64-bit ('venv': venv)",
   "name": "python3"
  },
  "language_info": {
   "codemirror_mode": {
    "name": "ipython",
    "version": 3
   },
   "file_extension": ".py",
   "mimetype": "text/x-python",
   "name": "python",
   "nbconvert_exporter": "python",
   "pygments_lexer": "ipython3",
   "version": "3.8.10"
  },
  "orig_nbformat": 4
 },
 "nbformat": 4,
 "nbformat_minor": 2
}
